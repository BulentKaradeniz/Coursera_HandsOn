{
 "cells": [
  {
   "cell_type": "code",
   "execution_count": null,
   "id": "4805177e-453b-461e-b62b-96af1f102ef0",
   "metadata": {},
   "outputs": [],
   "source": []
  },
  {
   "cell_type": "markdown",
   "id": "21f1e2d7-dcb0-4c6d-8b1f-2f2767a6c97c",
   "metadata": {},
   "source": [
    "# Turning Categorical Variables into Quantitaitve Variables in Python"
   ]
  },
  {
   "cell_type": "raw",
   "id": "fe6f44db-12f7-42fd-bf8d-698138002713",
   "metadata": {},
   "source": [
    "#  pd.get_dummies()method  convert catagorical variables to dummy variables(0 or 1)   one hot encoding"
   ]
  },
  {
   "cell_type": "code",
   "execution_count": null,
   "id": "346f3f09-df6e-4e0a-b92f-9b1d2a88fa57",
   "metadata": {},
   "outputs": [],
   "source": [
    "pd.get_dummies(df['fuel'])"
   ]
  }
 ],
 "metadata": {
  "kernelspec": {
   "display_name": "Python 3 (ipykernel)",
   "language": "python",
   "name": "python3"
  },
  "language_info": {
   "codemirror_mode": {
    "name": "ipython",
    "version": 3
   },
   "file_extension": ".py",
   "mimetype": "text/x-python",
   "name": "python",
   "nbconvert_exporter": "python",
   "pygments_lexer": "ipython3",
   "version": "3.11.5"
  }
 },
 "nbformat": 4,
 "nbformat_minor": 5
}
