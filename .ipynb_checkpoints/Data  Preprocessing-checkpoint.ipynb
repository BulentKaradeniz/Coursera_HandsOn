{
 "cells": [
  {
   "cell_type": "code",
   "execution_count": null,
   "id": "4805177e-453b-461e-b62b-96af1f102ef0",
   "metadata": {},
   "outputs": [],
   "source": []
  },
  {
   "cell_type": "markdown",
   "id": "21f1e2d7-dcb0-4c6d-8b1f-2f2767a6c97c",
   "metadata": {},
   "source": [
    "# Turning Categorical Variables into Quantitaitve Variables in Python"
   ]
  },
  {
   "cell_type": "raw",
   "id": "fe6f44db-12f7-42fd-bf8d-698138002713",
   "metadata": {},
   "source": [
    "#  pd.get_dummies()method  convert catagorical variables to dummy variables(0 or 1)   one hot encoding"
   ]
  },
  {
   "cell_type": "code",
   "execution_count": null,
   "id": "346f3f09-df6e-4e0a-b92f-9b1d2a88fa57",
   "metadata": {},
   "outputs": [],
   "source": [
    "pd.get_dummies(df['fuel'])"
   ]
  },
  {
   "cell_type": "raw",
   "id": "a7a17f39-6f70-4ab5-bb1a-8f665bd382fe",
   "metadata": {},
   "source": [
    "Lesson Summary\n",
    "Congratulations! You have completed this lesson. At this point in the course, you know:\n",
    "\n",
    "Data formatting is critical for making data from various sources consistent and comparable.\n",
    "\n",
    "Master the techniques in Python to convert units of measurement, like transforming \"city miles per gallon\" to \"city-liters per 100 kilometers\" for ease of comparison and analysis.\n",
    "\n",
    "Acquire skills to identify and correct data types in Python, ensuring the data is accurately represented for subsequent statistical analyses.\n",
    "\n",
    "Data normalization helps make variables comparable and helps eliminate inherent biases in statistical models.\n",
    "\n",
    "You can apply Feature Scaling, Min-Max, and Z-Score to normalize data and apply each technique in Python using pandas’ methods.\n",
    "\n",
    "Binning is a method of data pre-processing to improve model accuracy and data visualization.\n",
    "\n",
    "Run binning techniques in Python using numpy's \"linspace\" and pandas' \"cut\" methods, particularly for numerical variables like \"price.\"\n",
    "\n",
    "Utilize histograms to visualize the distribution of binned data and gain insights into feature distributions.\n",
    "\n",
    "Statistical models generally require numerical inputs, making it necessary to convert categorical variables like \"fuel type\" into numerical formats.\n",
    "\n",
    "You can implement the one-hot encoding technique in Python using pandas’ get_dummies method to transform categorical variables into a format suitable for machine learning models."
   ]
  },
  {
   "cell_type": "code",
   "execution_count": null,
   "id": "991196a8-f9db-4430-80c5-4309b9a5df81",
   "metadata": {},
   "outputs": [],
   "source": []
  },
  {
   "cell_type": "code",
   "execution_count": null,
   "id": "bad4073b-a3c2-4ddf-8794-18adf5959465",
   "metadata": {},
   "outputs": [],
   "source": []
  },
  {
   "cell_type": "code",
   "execution_count": null,
   "id": "2b0c7a1d-9f5d-4799-97cb-d6a0ad670b0d",
   "metadata": {},
   "outputs": [],
   "source": []
  }
 ],
 "metadata": {
  "kernelspec": {
   "display_name": "Python 3 (ipykernel)",
   "language": "python",
   "name": "python3"
  },
  "language_info": {
   "codemirror_mode": {
    "name": "ipython",
    "version": 3
   },
   "file_extension": ".py",
   "mimetype": "text/x-python",
   "name": "python",
   "nbconvert_exporter": "python",
   "pygments_lexer": "ipython3",
   "version": "3.11.5"
  }
 },
 "nbformat": 4,
 "nbformat_minor": 5
}
